{
 "cells": [
  {
   "cell_type": "markdown",
   "metadata": {
    "collapsed": true,
    "pycharm": {
     "name": "#%% md\n"
    }
   },
   "source": [
    "#### 1. 利用Logistic回归预测疝气病症的病马的死亡率\n",
    "\n",
    "- 数据集: [下载地址](http://archive.ics.uci.edu/ml/machine-learning-databases/horse-colic/)\n",
    "- 数据集描述 :\n",
    "- horse-colic.data : 训练数据\n",
    "- horse-colic.names : 数据集字段描述\n",
    "- horse-colic.test : 测试数据\n",
    "- 补充 : 数据集中有 30% 缺失值"
   ]
  },
  {
   "cell_type": "markdown",
   "source": [
    "#### 1.1 数据读取\n",
    "\n",
    "- 对缺失的数据使用当前列的均值进行处理\n",
    "- 对数据作归一化处理\n",
    "\n",
    "- 数据字段详解 :\n",
    "    1. surgery\n",
    "        - 1 : 做过手术\n",
    "        - 2 : 未做过手术\n",
    "    2. Age (年龄)\n",
    "        - 1 : 成年马\n",
    "        - 2 : 未成年马\n",
    "    3. Hospital Number (医院编号)\n",
    "    4. rectal temperature (直肠温度)\n",
    "    5. pulse (脉搏)\n",
    "        - 每分钟心跳数\n",
    "    6. respiratory rate (呼吸率)\n",
    "    7. temperature of extremities (是指温度)\n",
    "        - 1 = Normal\n",
    "        - 2 = Warm\n",
    "        - 3 = Cool\n",
    "        - 4 = Cold"
   ],
   "metadata": {
    "collapsed": false,
    "pycharm": {
     "name": "#%% md\n"
    }
   }
  },
  {
   "cell_type": "code",
   "execution_count": 2,
   "outputs": [],
   "source": [
    "import pandas as pd\n",
    "import numpy as np\n",
    "import matplotlib.pyplot as plt\n",
    "from matplotlib.font_manager import FontProperties\n",
    "\n",
    "# 设置显示的中文字题为宋体\n",
    "font_set = FontProperties(fname=r\"c:\\windows\\fonts\\simsun.ttc\", size=20)"
   ],
   "metadata": {
    "collapsed": false,
    "pycharm": {
     "name": "#%%\n"
    }
   }
  },
  {
   "cell_type": "code",
   "execution_count": 4,
   "outputs": [
    {
     "name": "stdout",
     "output_type": "stream",
     "text": [
      "                                                   0\n",
      "0  2 1 530101 38.50 66 28 3 3 ? 2 5 4 4 ? ? ? 3 5...\n",
      "1  1 1 534817 39.2 88 20 ? ? 4 1 3 4 2 ? ? ? 4 2 ...\n",
      "2  2 1 530334 38.30 40 24 1 1 3 1 3 3 1 ? ? ? 1 1...\n",
      "3  1 9 5290409 39.10 164 84 4 1 6 2 2 4 4 1 2 5.0...\n",
      "4  2 1 530255 37.30 104 35 ? ? 6 2 ? ? ? ? ? ? ? ...\n",
      "                                                   0\n",
      "0  2 1 528626 38.50 54 20 ? 1 2 2 3 4 1 2 2 5.90 ...\n",
      "1  2 1 527950 37.60 48 36 ? ? 1 1 ? 3 ? ? ? ? ? ?...\n",
      "2  1 1 535263 37.7 44 28 ? 4 3 2 5 4 4 1 1 ? 3 5 ...\n",
      "3  1 1 534523 37 56 24 3 1 4 2 4 4 3 1 1 ? ? ? 35...\n",
      "4  2 1 528926 38.00 42 12 3 ? 3 1 1 ? 1 ? ? ? ? 2...\n"
     ]
    }
   ],
   "source": [
    "train_path = './csv_data/horse-colic-train.csv'\n",
    "test_path = './csv_data/horse-colic-test.csv'\n",
    "\n",
    "column = []\n",
    "\n",
    "train_origin_data = pd.read_csv(train_path, header=None)\n",
    "test_origin_data = pd.read_csv(test_path, header=None)\n",
    "\n",
    "print(train_origin_data.head())\n",
    "print(test_origin_data.head())"
   ],
   "metadata": {
    "collapsed": false,
    "pycharm": {
     "name": "#%%\n"
    }
   }
  },
  {
   "cell_type": "markdown",
   "source": [],
   "metadata": {
    "collapsed": false,
    "pycharm": {
     "name": "#%% md\n"
    }
   }
  },
  {
   "cell_type": "markdown",
   "source": [],
   "metadata": {
    "collapsed": false
   }
  },
  {
   "cell_type": "code",
   "execution_count": 5,
   "outputs": [
    {
     "name": "stdout",
     "output_type": "stream",
     "text": [
      "<class 'pandas.core.frame.DataFrame'>\n",
      "RangeIndex: 300 entries, 0 to 299\n",
      "Data columns (total 1 columns):\n",
      " #   Column  Non-Null Count  Dtype \n",
      "---  ------  --------------  ----- \n",
      " 0   0       300 non-null    object\n",
      "dtypes: object(1)\n",
      "memory usage: 2.5+ KB\n"
     ]
    }
   ],
   "source": [
    "train_origin_data.info()"
   ],
   "metadata": {
    "collapsed": false,
    "pycharm": {
     "name": "#%%\n"
    }
   }
  },
  {
   "cell_type": "code",
   "execution_count": 11,
   "outputs": [
    {
     "name": "stdout",
     "output_type": "stream",
     "text": [
      "<class 'pandas.core.frame.DataFrame'>\n",
      "RangeIndex: 68 entries, 0 to 67\n",
      "Data columns (total 1 columns):\n",
      " #   Column  Non-Null Count  Dtype \n",
      "---  ------  --------------  ----- \n",
      " 0   0       68 non-null     object\n",
      "dtypes: object(1)\n",
      "memory usage: 672.0+ bytes\n"
     ]
    }
   ],
   "source": [
    "test_origin_data.info()"
   ],
   "metadata": {
    "collapsed": false,
    "pycharm": {
     "name": "#%%\n"
    }
   }
  },
  {
   "cell_type": "markdown",
   "source": [
    "- 通过观察上述输出结果可以看到很多的 ? , 这些都是错误数据, 处理方式有以下几种 :\n",
    "    1. 直接删除带 ? 的数据的对应行\n",
    "    2. 使用 ? 对应列的均值替换"
   ],
   "metadata": {
    "collapsed": false,
    "pycharm": {
     "name": "#%% md\n"
    }
   }
  },
  {
   "cell_type": "markdown",
   "source": [
    "#### 1.2 数据预处理\n",
    "\n",
    "- 该样本主要的问题的是有 30% 的缺失值(来源于 horse-colic.names 描述), 缺失值数据显示为 ?\n",
    "    1. 使用可用的特征的均值来填补缺失值\n",
    "    2. 使用特殊值来填补缺失值\n",
    "    3. 忽略有缺失值的样本\n",
    "    4. 使用相似样本的均值填补缺失值\n",
    "    5. 使用另外的机器学习算法预测缺失值\n",
    "\n",
    "- 处理缺失值的步骤 :\n",
    "    1. 对 **特征** 缺失值先使用 0 值替换\n",
    "    2. 计算每一列的均值, 然后使用均值替换掉缺失值\n",
    "    3. 对 **类别** 缺失值, 删除缺失的行"
   ],
   "metadata": {
    "collapsed": false,
    "pycharm": {
     "name": "#%% md\n"
    }
   }
  },
  {
   "cell_type": "code",
   "execution_count": 19,
   "outputs": [
    {
     "data": {
      "text/plain": "                                                   0\n1  1 1 534817 39.2 88 20 ? ? 4 1 3 4 2 ? ? ? 4 2 ...\n2  2 1 530334 38.30 40 24 1 1 3 1 3 3 1 ? ? ? 1 1...",
      "text/html": "<div>\n<style scoped>\n    .dataframe tbody tr th:only-of-type {\n        vertical-align: middle;\n    }\n\n    .dataframe tbody tr th {\n        vertical-align: top;\n    }\n\n    .dataframe thead th {\n        text-align: right;\n    }\n</style>\n<table border=\"1\" class=\"dataframe\">\n  <thead>\n    <tr style=\"text-align: right;\">\n      <th></th>\n      <th>0</th>\n    </tr>\n  </thead>\n  <tbody>\n    <tr>\n      <th>1</th>\n      <td>1 1 534817 39.2 88 20 ? ? 4 1 3 4 2 ? ? ? 4 2 ...</td>\n    </tr>\n    <tr>\n      <th>2</th>\n      <td>2 1 530334 38.30 40 24 1 1 3 1 3 3 1 ? ? ? 1 1...</td>\n    </tr>\n  </tbody>\n</table>\n</div>"
     },
     "execution_count": 19,
     "metadata": {},
     "output_type": "execute_result"
    }
   ],
   "source": [
    "train_origin_data[]"
   ],
   "metadata": {
    "collapsed": false,
    "pycharm": {
     "name": "#%%\n"
    }
   }
  },
  {
   "cell_type": "code",
   "execution_count": null,
   "outputs": [],
   "source": [],
   "metadata": {
    "collapsed": false,
    "pycharm": {
     "name": "#%%\n"
    }
   }
  }
 ],
 "metadata": {
  "kernelspec": {
   "display_name": "Python 3",
   "language": "python",
   "name": "python3"
  },
  "language_info": {
   "codemirror_mode": {
    "name": "ipython",
    "version": 2
   },
   "file_extension": ".py",
   "mimetype": "text/x-python",
   "name": "python",
   "nbconvert_exporter": "python",
   "pygments_lexer": "ipython2",
   "version": "2.7.6"
  }
 },
 "nbformat": 4,
 "nbformat_minor": 0
}