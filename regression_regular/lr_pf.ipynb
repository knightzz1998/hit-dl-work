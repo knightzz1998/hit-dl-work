{
 "cells": [
  {
   "cell_type": "markdown",
   "metadata": {
    "collapsed": true,
    "pycharm": {
     "name": "#%% md\n"
    }
   },
   "source": [
    "### 1. 二次回归和线性回归的拟合效果的对比"
   ]
  },
  {
   "cell_type": "code",
   "execution_count": 37,
   "metadata": {
    "pycharm": {
     "name": "#%%\n"
    }
   },
   "outputs": [],
   "source": [
    "import numpy as np\n",
    "import matplotlib.pyplot as plt\n",
    "from sklearn.linear_model import LinearRegression\n",
    "from sklearn.preprocessing import PolynomialFeatures\n",
    "from matplotlib.font_manager import FontProperties\n",
    "\n",
    "# 设置显示的中文字题为宋体\n",
    "font_set = FontProperties(fname=r\"c:\\windows\\fonts\\simsun.ttc\", size=20)"
   ]
  },
  {
   "cell_type": "markdown",
   "metadata": {
    "pycharm": {
     "name": "#%% md\n"
    }
   },
   "source": [
    "#### 1.1 定义训练集数据和测试集数据"
   ]
  },
  {
   "cell_type": "code",
   "execution_count": 38,
   "metadata": {
    "pycharm": {
     "name": "#%%\n"
    }
   },
   "outputs": [],
   "source": [
    "#训练集和测试集数据\n",
    "X_train = [[6], [8], [10], [14], [18]]\n",
    "y_train = [[7], [9], [13], [17.5], [18]]\n",
    "X_test = [[7], [9], [11], [15]]\n",
    "y_test = [[8], [12], [15], [18]]"
   ]
  },
  {
   "cell_type": "markdown",
   "metadata": {
    "pycharm": {
     "name": "#%% md\n"
    }
   },
   "source": [
    "#### 1.2 定义绘图函数\n",
    "- plt.axis([xmin, xmax, ymin, ymax])"
   ]
  },
  {
   "cell_type": "code",
   "execution_count": 39,
   "metadata": {
    "pycharm": {
     "name": "#%%\n"
    }
   },
   "outputs": [],
   "source": [
    "def draw_plt():\n",
    "    # 定义 figure\n",
    "    plt.figure()\n",
    "    # 设置 title 和 label\n",
    "    plt.title(label=u'披萨的价格和直径', fontproperties=font_set)\n",
    "    plt.xlabel(u'直径(inch)', fontproperties=font_set)\n",
    "    plt.ylabel(u'价格(美元)', fontproperties=font_set)\n",
    "    plt.axis([0, 25, 0, 25])\n",
    "    # 开启网格\n",
    "    plt.grid(True)\n",
    "    return plt"
   ]
  },
  {
   "cell_type": "markdown",
   "metadata": {
    "pycharm": {
     "name": "#%% md\n"
    }
   },
   "source": [
    "#### 1.3 画出纵横坐标以及散点图"
   ]
  },
  {
   "cell_type": "code",
   "execution_count": 40,
   "metadata": {
    "pycharm": {
     "name": "#%%\n"
    }
   },
   "outputs": [
    {
     "data": {
      "text/plain": [
       "<matplotlib.collections.PathCollection at 0x1be94c5a6c8>"
      ]
     },
     "execution_count": 40,
     "metadata": {},
     "output_type": "execute_result"
    },
    {
     "data": {
      "image/png": "[encoded data removed]",
      "text/plain": [
       "<Figure size 432x288 with 1 Axes>"
      ]
     },
     "metadata": {
      "needs_background": "light"
     },
     "output_type": "display_data"
    }
   ],
   "source": [
    "plt_obj = draw_plt()\n",
    "# s = 40, 是指点的大小\n",
    "# 绘制训练数据的散点图\n",
    "plt_obj.scatter(X_train, y_train, s=40)"
   ]
  },
  {
   "cell_type": "markdown",
   "metadata": {
    "pycharm": {
     "name": "#%% md\n"
    }
   },
   "source": [
    "#### 1.4 绘制线性回归曲线"
   ]
  },
  {
   "cell_type": "code",
   "execution_count": 41,
   "metadata": {
    "pycharm": {
     "name": "#%%\n"
    }
   },
   "outputs": [
    {
     "data": {
      "text/plain": [
       "[<matplotlib.lines.Line2D at 0x1be94bb6cc8>]"
      ]
     },
     "execution_count": 41,
     "metadata": {},
     "output_type": "execute_result"
    },
    {
     "data": {
      "image/png": "[encoded data removed]",
      "text/plain": [
       "<Figure size 432x288 with 1 Axes>"
      ]
     },
     "metadata": {
      "needs_background": "light"
     },
     "output_type": "display_data"
    }
   ],
   "source": [
    "xx = np.linspace(start=0, stop=26, num=100)\n",
    "# 将数据转换成 (100,1)的矩阵\n",
    "xx = xx.reshape(xx.shape[0], 1)\n",
    "\n",
    "# 定义线性回归的模型\n",
    "regressor = LinearRegression()\n",
    "# 训练数据\n",
    "regressor.fit(X_train, y_train)\n",
    "# 预测\n",
    "# shape (n_samples, n_features)\n",
    "yy = regressor.predict(xx)\n",
    "plt_obj.scatter(X_train, y_train, s=40)\n",
    "# 绘制线性回归的预测结果曲线\n",
    "plt.plot(xx, yy, label=\"linear equation\")"
   ]
  },
  {
   "cell_type": "markdown",
   "metadata": {
    "pycharm": {
     "name": "#%% md\n"
    }
   },
   "source": [
    "#### 1.5 生成多项式特征\n",
    "\n",
    "- 本次以二次回归为例"
   ]
  },
  {
   "cell_type": "code",
   "execution_count": 42,
   "metadata": {
    "pycharm": {
     "name": "#%%\n"
    }
   },
   "outputs": [
    {
     "data": {
      "text/plain": [
       "LinearRegression()"
      ]
     },
     "execution_count": 42,
     "metadata": {},
     "output_type": "execute_result"
    }
   ],
   "source": [
    "# 创建多项式特征对象\n",
    "poly_feature = PolynomialFeatures(degree=2)\n",
    "# 将训练数据转换为多项式特征\n",
    "X_train_poly = poly_feature.fit_transform(X_train)\n",
    "\n",
    "# 使用线性回归模型对多项式特征进行训练\n",
    "regressor_poly = LinearRegression()\n",
    "regressor_poly.fit(X_train_poly, y_train)"
   ]
  },
  {
   "cell_type": "markdown",
   "metadata": {
    "pycharm": {
     "name": "#%% md\n"
    }
   },
   "source": [
    "#### 1.6 生成预测数据\n",
    "- np.linspace(start, stop, num)"
   ]
  },
  {
   "cell_type": "code",
   "execution_count": 43,
   "metadata": {
    "pycharm": {
     "name": "#%%\n"
    }
   },
   "outputs": [
    {
     "name": "stdout",
     "output_type": "stream",
     "text": [
      "xx_poly.shape :  (100, 1)\n"
     ]
    }
   ],
   "source": [
    "xx_poly = np.linspace(0, 26, 100)\n",
    "# 将数据转换为 (100,1) 的矩阵\n",
    "xx_poly = xx_poly.reshape(xx.shape[0], 1)\n",
    "print(\"xx_poly.shape : \" , xx_poly.shape)\n",
    "# 将数据转换为多项式特征\n",
    "xx_poly_feature = poly_feature.fit_transform(xx_poly)\n",
    "# 多特征值进行预测\n",
    "yy_poly = regressor_poly.predict(xx_poly_feature)"
   ]
  },
  {
   "cell_type": "markdown",
   "metadata": {
    "pycharm": {
     "name": "#%% md\n"
    }
   },
   "source": [
    "#### 1.7 绘制多项式拟合图像"
   ]
  },
  {
   "cell_type": "code",
   "execution_count": 44,
   "metadata": {
    "pycharm": {
     "name": "#%%\n"
    }
   },
   "outputs": [
    {
     "data": {
      "text/plain": [
       "[<matplotlib.lines.Line2D at 0x1be94d14348>]"
      ]
     },
     "execution_count": 44,
     "metadata": {},
     "output_type": "execute_result"
    },
    {
     "data": {
      "image/png": "[encoded data removed]",
      "text/plain": [
       "<Figure size 432x288 with 1 Axes>"
      ]
     },
     "metadata": {
      "needs_background": "light"
     },
     "output_type": "display_data"
    }
   ],
   "source": [
    "# 绘制训练数据的散点图\n",
    "plt_obj.scatter(X_train, y_train, s=40)\n",
    "# 绘制多项式(二次)回归特征\n",
    "plt.plot(xx_poly, yy_poly, label='quadratic equation')"
   ]
  },
  {
   "cell_type": "markdown",
   "metadata": {
    "pycharm": {
     "name": "#%% md\n"
    }
   },
   "source": [
    "#### 1.8 绘制二次多项式和线性拟合对比图像"
   ]
  },
  {
   "cell_type": "code",
   "execution_count": 45,
   "metadata": {
    "pycharm": {
     "name": "#%%\n"
    }
   },
   "outputs": [
    {
     "data": {
      "image/png": "[encoded data removed]",
      "text/plain": [
       "<Figure size 432x288 with 1 Axes>"
      ]
     },
     "metadata": {
      "needs_background": "light"
     },
     "output_type": "display_data"
    }
   ],
   "source": [
    "# 绘制训练数据的散点图\n",
    "plt_obj.scatter(X_train, y_train, s=40)\n",
    "# 绘制线性回归的预测结果曲线\n",
    "plt.plot(xx, yy, label=\"linear equation\")\n",
    "# 绘制多项式(二次)回归特征\n",
    "plt.plot(xx_poly, yy_poly, label='quadratic equation')\n",
    "plt.legend(loc='upper left')\n",
    "plt.show()"
   ]
  },
  {
   "cell_type": "markdown",
   "metadata": {
    "pycharm": {
     "name": "#%% md\n"
    }
   },
   "source": [
    "#### 1.9 对测试集进行预测"
   ]
  },
  {
   "cell_type": "code",
   "execution_count": 46,
   "metadata": {
    "pycharm": {
     "name": "#%%\n"
    }
   },
   "outputs": [
    {
     "name": "stdout",
     "output_type": "stream",
     "text": [
      "linear equation  r-squared 0.8283656795834485\n",
      "quadratic equation r-squared 0.9785451046983032\n"
     ]
    }
   ],
   "source": [
    "# 将测试集转换为多项式特征\n",
    "X_test_poly_feature = poly_feature.fit_transform(X_test)\n",
    "# 分别使用二次多项式回归和线性回归进行预测并输出决定系数 R2 的值\n",
    "print('linear equation  r-squared', regressor.score(X_test, y_test))\n",
    "print('quadratic equation r-squared', regressor_poly.score(X_test_poly_feature, y_test))"
   ]
  }
 ],
 "metadata": {
  "kernelspec": {
   "display_name": "Python 3 (ipykernel)",
   "language": "python",
   "name": "python3"
  },
  "language_info": {
   "codemirror_mode": {
    "name": "ipython",
    "version": 3
   },
   "file_extension": ".py",
   "mimetype": "text/x-python",
   "name": "python",
   "nbconvert_exporter": "python",
   "pygments_lexer": "ipython3",
   "version": "3.7.11"
  }
 },
 "nbformat": 4,
 "nbformat_minor": 1
}