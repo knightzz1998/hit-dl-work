{
 "cells": [
  {
   "cell_type": "markdown",
   "metadata": {
    "pycharm": {
     "name": "#%% md\n"
    }
   },
   "source": [
    "### 1. 处理数据"
   ]
  },
  {
   "cell_type": "code",
   "execution_count": 1,
   "metadata": {
    "pycharm": {
     "name": "#%%\n"
    }
   },
   "outputs": [],
   "source": [
    "import numpy as np\n",
    "\n",
    "\n",
    "def readData(path):\n",
    "    \"\"\"\n",
    "    :param path: 需要读取的数据\n",
    "    :return: 对缺失值处理后的数据\n",
    "    \"\"\"\n",
    "\n",
    "    Data = []  # 特征\n",
    "    Label = []  # 标签\n",
    "\n",
    "    #没有用的属性的下标\n",
    "    index = [2, 24, 25, 26, 27]\n",
    "    with open(path) as f:\n",
    "        for line in f.readlines():\n",
    "            # 去除数据两端的空格, 然后使用空格分隔数据\n",
    "            LineArr = line.strip().split(\" \")\n",
    "            # 获取数据的列的大小\n",
    "            m = np.shape(LineArr)[0]\n",
    "            data = []\n",
    "            for i in range(m):\n",
    "                if i in index:\n",
    "                    # 没有用的属性直接跳过\n",
    "                    continue\n",
    "                elif i == 22:\n",
    "                    # 下标为22的属性是分类\n",
    "                    # 1代表活着，标记设为1\n",
    "                    # 2,3分别代表死亡，安乐死，标记设为0\n",
    "                    if LineArr[i] == '?':\n",
    "                        Label.append(0)\n",
    "                    elif int(LineArr[i]) == 1:\n",
    "                        Label.append(1)\n",
    "                    else:\n",
    "                        Label.append(0)\n",
    "                else:\n",
    "                    #剩下的是有用数据\n",
    "                    if LineArr[i] == '?':\n",
    "                        #缺失数据首先由0代替\n",
    "                        data.append(0.0)\n",
    "                    else:\n",
    "                        data.append(float(LineArr[i]))\n",
    "            Data.append(data)\n",
    "        Data = np.array(Data)\n",
    "        Label = np.array(Label)\n",
    "    return Data, Label"
   ]
  },
  {
   "cell_type": "code",
   "execution_count": 2,
   "metadata": {
    "pycharm": {
     "name": "#%%\n"
    }
   },
   "outputs": [],
   "source": [
    "def zeroProcess(data):\n",
    "    \"\"\"\n",
    "    :param data:需要进行0值处理的数据\n",
    "    :return: 返回把0值已经处理好的数据\n",
    "    \"\"\"\n",
    "    # 获取行列数据\n",
    "    m, n = np.shape(data)\n",
    "    # 对0值数据使用当前列的平均数填充\n",
    "    for i in range(n):\n",
    "        # 获取当前列的平均值\n",
    "        avg = np.average(data[:, i])\n",
    "        #  np.any(data[:,i]) 判断指定列的数据是否有 0 值\n",
    "        if np.any(data[:, i] == 0):\n",
    "            # 将当前列的 0 值替换为平均值\n",
    "            for j in range(m):\n",
    "                data[j, i] = avg\n",
    "        else:\n",
    "            continue\n",
    "    return data"
   ]
  },
  {
   "cell_type": "code",
   "execution_count": 3,
   "metadata": {
    "pycharm": {
     "name": "#%%\n"
    }
   },
   "outputs": [],
   "source": [
    "# 读取数据, 将缺失值替换为 0, 删除缺失类别\n",
    "train_data, train_label = readData('data/horse-colic.data')\n",
    "test_data, test_label = readData('./data/horse-colic.test')\n",
    "# 将当前列的值替换为平均数\n",
    "train_data = zeroProcess(train_data)\n",
    "test_data = zeroProcess(test_data)\n"
   ]
  },
  {
   "cell_type": "code",
   "execution_count": 4,
   "metadata": {
    "pycharm": {
     "name": "#%%\n"
    }
   },
   "outputs": [
    {
     "name": "stdout",
     "output_type": "stream",
     "text": [
      "[[ 1.39333333  1.         30.53433333 ...  0.91666667  1.02666667\n",
      "   2.        ]\n",
      " [ 1.39333333  1.         30.53433333 ...  0.91666667  1.02666667\n",
      "   2.        ]\n",
      " [ 1.39333333  1.         30.53433333 ...  0.91666667  1.02666667\n",
      "   2.        ]\n",
      " ...\n",
      " [ 1.39333333  1.         30.53433333 ...  0.91666667  1.02666667\n",
      "   1.        ]\n",
      " [ 1.39333333  1.         30.53433333 ...  0.91666667  1.02666667\n",
      "   1.        ]\n",
      " [ 1.39333333  1.         30.53433333 ...  0.91666667  1.02666667\n",
      "   2.        ]]\n"
     ]
    }
   ],
   "source": [
    "print(train_data)"
   ]
  },
  {
   "cell_type": "code",
   "execution_count": 5,
   "metadata": {
    "pycharm": {
     "name": "#%%\n"
    }
   },
   "outputs": [
    {
     "data": {
      "text/plain": [
       "array([[ 1.47058824,  1.        , 32.96911765, ...,  1.19117647,\n",
       "         1.23676471,  2.        ],\n",
       "       [ 1.47058824,  1.        , 32.96911765, ...,  1.19117647,\n",
       "         1.23676471,  2.        ],\n",
       "       [ 1.47058824,  1.        , 32.96911765, ...,  1.19117647,\n",
       "         1.23676471,  1.        ],\n",
       "       ...,\n",
       "       [ 1.47058824,  1.        , 32.96911765, ...,  1.19117647,\n",
       "         1.23676471,  1.        ],\n",
       "       [ 1.47058824,  1.        , 32.96911765, ...,  1.19117647,\n",
       "         1.23676471,  2.        ],\n",
       "       [ 1.47058824,  1.        , 32.96911765, ...,  1.19117647,\n",
       "         1.23676471,  1.        ]])"
      ]
     },
     "execution_count": 5,
     "metadata": {},
     "output_type": "execute_result"
    }
   ],
   "source": [
    "test_data"
   ]
  },
  {
   "cell_type": "markdown",
   "metadata": {
    "pycharm": {
     "name": "#%% md\n"
    }
   },
   "source": [
    "### 2. 绘制图表分析"
   ]
  },
  {
   "cell_type": "code",
   "execution_count": 6,
   "metadata": {
    "pycharm": {
     "name": "#%%\n"
    }
   },
   "outputs": [
    {
     "data": {
      "image/png": "[encoded data removed]",
      "text/plain": [
       "<Figure size 432x288 with 1 Axes>"
      ]
     },
     "metadata": {
      "needs_background": "light"
     },
     "output_type": "display_data"
    }
   ],
   "source": [
    "import matplotlib.pyplot as plt\n",
    "from matplotlib.font_manager import FontProperties\n",
    "\n",
    "# 设置显示的中文字题为宋体\n",
    "font_set = FontProperties(fname=r\"c:\\windows\\fonts\\simsun.ttc\", size=20)\n",
    "\n",
    "# 分析前5个特征和数据之间的关系\n",
    "plt.xlabel(u'特征', fontproperties=font_set)\n",
    "plt.ylabel('类别', fontproperties=font_set)\n",
    "plt.scatter(train_data[:, 1], train_label)\n",
    "plt.scatter(train_data[:, 2], train_label)\n",
    "plt.scatter(train_data[:, 3], train_label)\n",
    "plt.show()"
   ]
  },
  {
   "cell_type": "markdown",
   "metadata": {
    "pycharm": {
     "name": "#%% md\n"
    }
   },
   "source": [
    "### 3. 使用优化算法"
   ]
  },
  {
   "cell_type": "code",
   "execution_count": 7,
   "metadata": {
    "pycharm": {
     "name": "#%%\n"
    }
   },
   "outputs": [
    {
     "name": "stdout",
     "output_type": "stream",
     "text": [
      "系数 :  [[-2.15035682e-04 -4.29832792e-02 -4.71241951e-03 -1.02105938e-02\n",
      "  -3.78678864e-03 -2.94773793e-04 -2.39728774e-04 -3.71425268e-04\n",
      "  -1.80053800e-04 -3.71939708e-04 -3.84286254e-04 -2.84485005e-04\n",
      "  -1.76967164e-04 -1.57932905e-04 -1.28352638e-04 -2.80883929e-04\n",
      "  -3.45703297e-04 -6.45415708e-03 -3.35928948e-03 -1.41470843e-04\n",
      "  -1.58447344e-04  1.28924784e+00]]\n",
      "常数项 :  [-0.00015433]\n",
      "正确率为 : 73.53%\n"
     ]
    },
    {
     "name": "stderr",
     "output_type": "stream",
     "text": [
      "D:\\DevApp\\anaconda3\\envs\\dive-into-tf\\lib\\site-packages\\sklearn\\svm\\_base.py:986: ConvergenceWarning: Liblinear failed to converge, increase the number of iterations.\n",
      "  \"the number of iterations.\", ConvergenceWarning)\n"
     ]
    }
   ],
   "source": [
    "from sklearn.linear_model import LogisticRegression\n",
    "\n",
    "# 使用 liblinear 方法\n",
    "liblinear_model = LogisticRegression(solver='liblinear', max_iter=10)\n",
    "liblinear_model.fit(train_data, train_label)\n",
    "\n",
    "# 输出斜率和参数\n",
    "print(\"系数 : \", liblinear_model.coef_)\n",
    "print(\"常数项 : \", liblinear_model.intercept_)\n",
    "\n",
    "# 输出精确率\n",
    "accuracy_lib = liblinear_model.score(test_data, test_label) * 100\n",
    "\n",
    "print(\"正确率为 : %.2f%%\" % accuracy_lib)"
   ]
  },
  {
   "cell_type": "code",
   "execution_count": 8,
   "metadata": {
    "pycharm": {
     "name": "#%%\n"
    }
   },
   "outputs": [
    {
     "name": "stdout",
     "output_type": "stream",
     "text": [
      "系数 :  [[-2.11114974e-04 -4.30535218e-02 -4.62649880e-03 -1.00244259e-02\n",
      "  -3.71774480e-03 -2.89399235e-04 -2.35357842e-04 -3.64653137e-04\n",
      "  -1.76770911e-04 -3.65158197e-04 -3.77279631e-04 -2.79298040e-04\n",
      "  -1.73740553e-04 -1.55053342e-04 -1.26012407e-04 -2.75762622e-04\n",
      "  -3.39400150e-04 -6.33647958e-03 -3.29804015e-03 -1.38891430e-04\n",
      "  -1.55558402e-04  1.27148029e+00]]\n",
      "常数项 :  [-0.00018229]\n",
      "正确率为 : 73.53%\n"
     ]
    }
   ],
   "source": [
    "# 使用 sag 方法\n",
    "sag_model = LogisticRegression(solver='sag', max_iter=5000)\n",
    "sag_model.fit(train_data, train_label)\n",
    "\n",
    "# 输出斜率和参数\n",
    "print(\"系数 : \", sag_model.coef_)\n",
    "print(\"常数项 : \", sag_model.intercept_)\n",
    "\n",
    "# 输出精确率\n",
    "accuracy_sag = sag_model.score(test_data, test_label) * 100\n",
    "\n",
    "print(\"正确率为 : %.2f%%\" % accuracy_sag)"
   ]
  },
  {
   "cell_type": "markdown",
   "metadata": {
    "pycharm": {
     "name": "#%% md\n"
    }
   },
   "source": [
    "### 4. 观察错误率"
   ]
  },
  {
   "cell_type": "code",
   "execution_count": 9,
   "metadata": {
    "pycharm": {
     "name": "#%%\n"
    }
   },
   "outputs": [
    {
     "name": "stdout",
     "output_type": "stream",
     "text": [
      "错误率 : 26.47%\n"
     ]
    }
   ],
   "source": [
    "# 使用 sag 算法对测试数据进行预测\n",
    "result_predict = sag_model.predict(test_data)\n",
    "\n",
    "\n",
    "def figure_error_rate(result_predict):\n",
    "    # 对比测试标签, 统计错误数\n",
    "    test_len = len(test_data)\n",
    "    error = 0\n",
    "    for i in range(test_len):\n",
    "        if test_label[i] != result_predict[i]:\n",
    "            error += 1\n",
    "    # 计算错误率\n",
    "    error_rate = (error / test_len) * 100\n",
    "    print(\"错误率 : %.2f%%\" % error_rate)\n",
    "\n",
    "\n",
    "figure_error_rate(result_predict)"
   ]
  },
  {
   "cell_type": "code",
   "execution_count": 10,
   "metadata": {
    "pycharm": {
     "name": "#%%\n"
    }
   },
   "outputs": [
    {
     "name": "stdout",
     "output_type": "stream",
     "text": [
      "错误率 : 26.47%\n"
     ]
    },
    {
     "name": "stderr",
     "output_type": "stream",
     "text": [
      "D:\\DevApp\\anaconda3\\envs\\dive-into-tf\\lib\\site-packages\\sklearn\\linear_model\\_sag.py:329: ConvergenceWarning: The max_iter was reached which means the coef_ did not converge\n",
      "  \"the coef_ did not converge\", ConvergenceWarning)\n"
     ]
    }
   ],
   "source": [
    "sag_model_ite = LogisticRegression(solver='sag', max_iter=1000)\n",
    "sag_model_ite.fit(train_data, train_label)\n",
    "\n",
    "result = sag_model_ite.predict(test_data)\n",
    "figure_error_rate(result)"
   ]
  },
  {
   "cell_type": "markdown",
   "metadata": {
    "pycharm": {
     "name": "#%% md\n"
    }
   },
   "source": [
    "### 5. 实现命令行程序预测病马\n"
   ]
  },
  {
   "cell_type": "code",
   "execution_count": 23,
   "metadata": {
    "pycharm": {
     "name": "#%%\n"
    }
   },
   "outputs": [
    {
     "name": "stdout",
     "output_type": "stream",
     "text": [
      "存活\n"
     ]
    }
   ],
   "source": [
    "# 存储特征\n",
    "feature = []\n",
    "\n",
    "# 输入特征\n",
    "surgery = int(input(\"surgery?  1 = Yes, it had surgery , 2 = It was treated without surgery\"))\n",
    "feature.append(surgery)\n",
    "# 直肠温度\n",
    "rectal_temperature = float(input(\"rectal temperature?\"))\n",
    "feature.append(rectal_temperature)\n",
    "\n",
    "# 由于特征数过多, 本次代码只提供大致思路 ...\n",
    "\n",
    "# 根据特征生成 ndarray 数组\n",
    "feature_np = np.asarray(feature)\n",
    "# 对特征进行reshape\n",
    "feature_pre = feature_np.reshape(1, train_data.shape[1])\n",
    "# 预测结果\n",
    "result_type = sag_model.predict(feature_pre)\n",
    "if result_type == 1:\n",
    "    print(\"存活\")\n",
    "else:\n",
    "    print(\"死亡\")"
   ]
  },
  {
   "cell_type": "code",
   "execution_count": null,
   "metadata": {
    "pycharm": {
     "name": "#%%\n"
    }
   },
   "outputs": [],
   "source": []
  }
 ],
 "metadata": {
  "kernelspec": {
   "display_name": "Python 3 (ipykernel)",
   "language": "python",
   "name": "python3"
  },
  "language_info": {
   "codemirror_mode": {
    "name": "ipython",
    "version": 3
   },
   "file_extension": ".py",
   "mimetype": "text/x-python",
   "name": "python",
   "nbconvert_exporter": "python",
   "pygments_lexer": "ipython3",
   "version": "3.7.11"
  }
 },
 "nbformat": 4,
 "nbformat_minor": 1
}