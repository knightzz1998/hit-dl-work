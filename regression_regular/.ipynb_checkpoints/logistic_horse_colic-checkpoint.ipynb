{
 "cells": [
  {
   "cell_type": "markdown",
   "metadata": {
    "collapsed": true,
    "pycharm": {
     "name": "#%% md\n"
    }
   },
   "source": [
    "#### 1. 利用Logistic回归预测疝气病症的病马的死亡率\n",
    "\n",
    "- 数据集: [下载地址](http://archive.ics.uci.edu/ml/machine-learning-databases/horse-colic/)\n",
    "- 数据集描述 :\n",
    "- horse-colic.data : 训练数据\n",
    "- horse-colic.names : 数据集字段描述\n",
    "- horse-colic.test : 测试数据"
   ]
  },
  {
   "cell_type": "markdown",
   "metadata": {
    "pycharm": {
     "name": "#%% md\n"
    }
   },
   "source": [
    "#### 1.1 读取数据\n",
    "\n",
    "1. 读取数据\n",
    "2. 处理数据, 对标签的 ? 值标记为0, 同时去掉没有用的属性列\n",
    "3. 数据集字段可以查看 horse-colic-names"
   ]
  },
  {
   "cell_type": "code",
   "execution_count": 20,
   "metadata": {
    "pycharm": {
     "name": "#%%\n"
    }
   },
   "outputs": [],
   "source": [
    "import numpy as np\n",
    "\n",
    "\n",
    "def readData(path):\n",
    "    \"\"\"\n",
    "    :param path: 需要读取的数据\n",
    "    :return: 对缺失值处理后的数据\n",
    "    \"\"\"\n",
    "\n",
    "    Data = []  # 特征\n",
    "    Label = []  # 标签\n",
    "\n",
    "    #没有用的属性的下标\n",
    "    index = [2, 24, 25, 26, 27]\n",
    "    with open(path) as f:\n",
    "        for line in f.readlines():\n",
    "            # 去除数据两端的空格, 然后使用空格分隔数据\n",
    "            LineArr = line.strip().split(\" \")\n",
    "            # 获取数据的列的大小\n",
    "            m = np.shape(LineArr)[0]\n",
    "            data = []\n",
    "            for i in range(m):\n",
    "                if i in index:\n",
    "                    # 没有用的属性直接跳过\n",
    "                    continue\n",
    "                elif i == 22:\n",
    "                    # 下标为22的属性是分类\n",
    "                    # 1代表活着，标记设为1\n",
    "                    # 2,3分别代表死亡，安乐死，标记设为0\n",
    "                    if LineArr[i] == '?':\n",
    "                        Label.append(0)\n",
    "                    elif int(LineArr[i]) == 1:\n",
    "                        Label.append(1)\n",
    "                    else:\n",
    "                        Label.append(0)\n",
    "                else:\n",
    "                    #剩下的是有用数据\n",
    "                    if LineArr[i] == '?':\n",
    "                        #缺失数据首先由0代替\n",
    "                        data.append(0.0)\n",
    "                    else:\n",
    "                        data.append(float(LineArr[i]))\n",
    "            Data.append(data)\n",
    "        Data = np.array(Data)\n",
    "        Label = np.array(Label)\n",
    "    return Data, Label"
   ]
  },
  {
   "cell_type": "code",
   "execution_count": 21,
   "metadata": {
    "pycharm": {
     "name": "#%%\n"
    }
   },
   "outputs": [
    {
     "name": "stdout",
     "output_type": "stream",
     "text": [
      "[[  2.    1.   38.5  66.   28.    3.    3.    0.    2.    5.    4.    4.\n",
      "    0.    0.    0.    3.    5.   45.    8.4   0.    0.    2. ]\n",
      " [  1.    1.   39.2  88.   20.    0.    0.    4.    1.    3.    4.    2.\n",
      "    0.    0.    0.    4.    2.   50.   85.    2.    2.    2. ]\n",
      " [  2.    1.   38.3  40.   24.    1.    1.    3.    1.    3.    3.    1.\n",
      "    0.    0.    0.    1.    1.   33.    6.7   0.    0.    2. ]\n",
      " [  1.    9.   39.1 164.   84.    4.    1.    6.    2.    2.    4.    4.\n",
      "    1.    2.    5.    3.    0.   48.    7.2   3.    5.3   1. ]\n",
      " [  2.    1.   37.3 104.   35.    0.    0.    6.    2.    0.    0.    0.\n",
      "    0.    0.    0.    0.    0.   74.    7.4   0.    0.    2. ]]\n",
      "[0 0 1 0 0]\n"
     ]
    }
   ],
   "source": [
    " data, label = readData('./data/horse-colic.data')\n",
    "\n",
    "print(data[:5])\n",
    "print(label[:5])"
   ]
  },
  {
   "cell_type": "markdown",
   "metadata": {
    "pycharm": {
     "name": "#%% md\n"
    }
   },
   "source": [
    "#### 1.2 处理缺失值数据以及数据归一化\n",
    "\n",
    " - np.all()函数用于判断整个数组中的元素的值是否全部满足条件，如果满足条件返回True，否则返回False。\n",
    " - np.any()函数用于判断整个数组中的元素至少有一个满足条件就返回True，否则返回False。"
   ]
  },
  {
   "cell_type": "code",
   "execution_count": 22,
   "metadata": {
    "pycharm": {
     "name": "#%%\n"
    }
   },
   "outputs": [],
   "source": [
    "def zeroProcess(data):\n",
    "    \"\"\"\n",
    "    :param data:需要进行0值处理的数据\n",
    "    :return: 返回把0值已经处理好的数据\n",
    "    \"\"\"\n",
    "    # 获取行列数据\n",
    "    m, n = np.shape(data)\n",
    "    # 对0值数据使用当前列的平均数填充\n",
    "    for i in range(n):\n",
    "        # 获取当前列的平均值\n",
    "        avg = np.average(data[:, i])\n",
    "        #  np.any(data[:,i]) 判断指定列的数据是否有 0 值\n",
    "        if np.any(data[:, i] == 0):\n",
    "            # 将当前列的 0 值替换为平均值\n",
    "            for j in range(m):\n",
    "                data[j, i] = avg\n",
    "        else:\n",
    "            continue\n",
    "    return data"
   ]
  },
  {
   "cell_type": "markdown",
   "metadata": {
    "pycharm": {
     "name": "#%% md\n"
    }
   },
   "source": [
    " - 数据归一化 :\n",
    " - np.tile(value, (row, col)) : 通过重复的 value 值构造数组"
   ]
  },
  {
   "cell_type": "code",
   "execution_count": 23,
   "metadata": {
    "pycharm": {
     "name": "#%%\n"
    }
   },
   "outputs": [],
   "source": [
    "def autoNorm(data):\n",
    "    # 获取数据中的最小值和最大值\n",
    "    data_min = data.min()\n",
    "    data_max = data.max()\n",
    "    data_range = data_max - data_min\n",
    "\n",
    "    # 对数据进行归一化\n",
    "    row = np.shape(data)[0]\n",
    "    norm_data = data - np.tile(data_min, (row, 1))\n",
    "    norm_data = norm_data / data_range\n",
    "    return norm_data"
   ]
  },
  {
   "cell_type": "markdown",
   "metadata": {
    "pycharm": {
     "name": "#%% md\n"
    }
   },
   "source": []
  },
  {
   "cell_type": "code",
   "execution_count": 24,
   "metadata": {
    "pycharm": {
     "name": "#%%\n"
    }
   },
   "outputs": [],
   "source": [
    "def preProcessor(data):\n",
    "    \"\"\"\n",
    "    数据预处理\n",
    "    :param data: 待处理的数据\n",
    "    :return: 缺失值填充和数据归一化后的数据\n",
    "    \"\"\"\n",
    "    none_zero_data = zeroProcess(data)\n",
    "    norm_data_result = autoNorm(none_zero_data)\n",
    "    return norm_data_result"
   ]
  },
  {
   "cell_type": "code",
   "execution_count": 25,
   "metadata": {
    "pycharm": {
     "name": "#%%\n"
    }
   },
   "outputs": [
    {
     "name": "stdout",
     "output_type": "stream",
     "text": [
      "[[0.0085976  0.00257673 0.45466745 1.         0.3628594  0.01650637\n",
      "  0.01104676 0.02410899 0.00512794 0.02416001 0.0253846  0.01548588\n",
      "  0.0048218  0.0029339  0.         0.01512871 0.02155777 0.62742047\n",
      "  0.3204582  0.00130112 0.00298492 0.01788402]]\n"
     ]
    }
   ],
   "source": [
    "tmp_res = preProcessor(data)\n",
    "print(tmp_res[:1])"
   ]
  },
  {
   "cell_type": "markdown",
   "metadata": {
    "pycharm": {
     "name": "#%% md\n"
    }
   },
   "source": [
    "#### 1.3 使用逻辑回归算法进行预测"
   ]
  },
  {
   "cell_type": "code",
   "execution_count": 26,
   "metadata": {
    "pycharm": {
     "name": "#%%\n"
    }
   },
   "outputs": [],
   "source": [
    "# 读取训练数据和预测数据\n",
    "train_data, train_label = readData('./data/horse-colic.data')\n",
    "test_data, test_label = readData('./data/horse-colic.test')"
   ]
  },
  {
   "cell_type": "code",
   "execution_count": 27,
   "metadata": {
    "pycharm": {
     "name": "#%%\n"
    }
   },
   "outputs": [],
   "source": [
    "# 数据预处理\n",
    "train_data_process = preProcessor(train_data)\n",
    "test_data_process = preProcessor(test_data)"
   ]
  },
  {
   "cell_type": "code",
   "execution_count": 28,
   "metadata": {
    "pycharm": {
     "name": "#%%\n"
    }
   },
   "outputs": [
    {
     "name": "stdout",
     "output_type": "stream",
     "text": [
      "逻辑回归的系数 :  [[-3.61893767e-08 -2.53734946e-01 -1.91380592e-06 -4.20924331e-06\n",
      "  -1.52736352e-06 -6.94793078e-08 -4.64985167e-08 -1.01480597e-07\n",
      "  -2.15847617e-08 -1.01695370e-07 -1.06849940e-07 -6.51838326e-08\n",
      "  -2.02961192e-08 -1.23494906e-08  0.00000000e+00 -6.36804164e-08\n",
      "  -9.07419088e-08 -2.64096541e-06 -1.34888653e-06 -5.47673061e-09\n",
      "  -1.25642643e-08  3.24975284e-01]] \n",
      "常数项 :  [0.37827198]\n"
     ]
    }
   ],
   "source": [
    "from sklearn.linear_model import LogisticRegression\n",
    "\n",
    "# 训练 Logistic 模型\n",
    "logistic_model = LogisticRegression()\n",
    "# 训练数据\n",
    "logistic_model.fit(train_data_process, train_label)\n",
    "\n",
    "print(\"逻辑回归的系数 : \" , logistic_model.coef_, \"\\n常数项 : \" , logistic_model.intercept_)"
   ]
  },
  {
   "cell_type": "code",
   "execution_count": 29,
   "metadata": {
    "pycharm": {
     "name": "#%%\n"
    }
   },
   "outputs": [
    {
     "name": "stdout",
     "output_type": "stream",
     "text": [
      "准确率 : 69.12%\n"
     ]
    }
   ],
   "source": [
    "accuracy = logistic_model.score(test_data_process, test_label) * 100\n",
    "\n",
    "print(\"准确率 : %.2f%%\" % accuracy)"
   ]
  },
  {
   "cell_type": "markdown",
   "metadata": {
    "pycharm": {
     "name": "#%% md\n"
    }
   },
   "source": []
  }
 ],
 "metadata": {
  "kernelspec": {
   "display_name": "Python 3 (ipykernel)",
   "language": "python",
   "name": "python3"
  },
  "language_info": {
   "codemirror_mode": {
    "name": "ipython",
    "version": 3
   },
   "file_extension": ".py",
   "mimetype": "text/x-python",
   "name": "python",
   "nbconvert_exporter": "python",
   "pygments_lexer": "ipython3",
   "version": "3.7.11"
  }
 },
 "nbformat": 4,
 "nbformat_minor": 1
}
