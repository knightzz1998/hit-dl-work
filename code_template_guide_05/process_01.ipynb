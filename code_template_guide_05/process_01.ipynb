{
 "cells": [
  {
   "cell_type": "markdown",
   "metadata": {
    "collapsed": true,
    "pycharm": {
     "name": "#%% md\n"
    }
   },
   "source": [
    "## 正向传播和反向传播的程序示例"
   ]
  },
  {
   "cell_type": "markdown",
   "metadata": {
    "pycharm": {
     "name": "#%% md\n"
    }
   },
   "source": [
    "### 1.1 正向传播\n",
    "- 矩阵相乘, W 与 X 点乘, 结果输出为 D\n",
    "- 公式如下 :\n",
    "\n",
    "$$\n",
    "    f(x) = w_0x_0 + w_1x_1 + w_2x_2 + ... + w_nx_n \\\\\n",
    "    D = WX\n",
    "$$"
   ]
  },
  {
   "cell_type": "code",
   "execution_count": 2,
   "metadata": {
    "pycharm": {
     "name": "#%%\n"
    }
   },
   "outputs": [
    {
     "name": "stdout",
     "output_type": "stream",
     "text": [
      "[[-4.40540367  1.92479407]\n",
      " [-1.26716279 -0.38831079]\n",
      " [-2.27550292 -0.23148673]\n",
      " [ 2.28513756 -5.54276238]\n",
      " [-0.73177302 -2.99901286]]\n"
     ]
    }
   ],
   "source": [
    "import numpy as np\n",
    "\n",
    "# 随机生成初始 W值\n",
    "W = np.random.randn(5,10)\n",
    "X = np.random.randn(10,2)\n",
    "\n",
    "# 计算 W 与 X 点乘的结果\n",
    "D = W.dot(X)\n",
    "print(D)"
   ]
  },
  {
   "cell_type": "markdown",
   "metadata": {},
   "source": [
    "### 2. 反向传播\n",
    "\n",
    "- 反向传播公式 :\n",
    "\n",
    "- $\\partial D 是指 D 的梯度$\n",
    "\n",
    "$$    \n",
    "   \\dfrac{ \\partial D}{\\partial W} = \\partial D  X \\\\\n",
    "   \\dfrac{ \\partial D}{\\partial X} = W \\partial D \\\\\n",
    "$$"
   ]
  },
  {
   "cell_type": "code",
   "execution_count": 3,
   "metadata": {},
   "outputs": [
    {
     "name": "stdout",
     "output_type": "stream",
     "text": [
      "dD.shape :  (5, 2)\n",
      "D 对 W 的偏导数 : \n",
      " [[-0.49593286  0.64979427 -0.31007581 -0.01370837 -0.84314275  0.24054904\n",
      "  -0.13999896 -0.35656282  0.0335393  -0.65553186]\n",
      " [ 1.9791252   1.12123616 -0.41568924  1.12228238 -0.04026589  1.60903865\n",
      "  -0.46819801 -0.96485707 -1.46679631  1.35582507]\n",
      " [ 4.14039193  1.23081115 -0.37346234  2.0274228   0.93775618  2.59508794\n",
      "  -0.67126847 -1.30182725 -2.66850607  3.21467473]\n",
      " [-3.62387798  2.75044204 -1.37667865 -0.67435212 -4.32966897  0.3760342\n",
      "  -0.47069798 -1.32122778  0.96198884 -4.11230889]\n",
      " [ 0.49570765 -0.65752006  0.31350475  0.01139681  0.85011268 -0.24598733\n",
      "   0.14215287  0.36155714 -0.03064568  0.65795549]]\n",
      "D 对 X 的偏导数 : \n",
      " [[-1.94518158  3.13885216]\n",
      " [-1.28067122 -0.89122166]\n",
      " [-1.5727329   4.61313475]\n",
      " [ 0.20142203 -3.1987232 ]\n",
      " [-1.67870033  1.68998048]\n",
      " [-3.77436108  2.46162973]\n",
      " [ 3.88826651 -0.44656719]\n",
      " [-5.77696494  3.47220433]\n",
      " [-2.16755266  0.59654818]\n",
      " [-2.92005825  0.56968593]]\n"
     ]
    }
   ],
   "source": [
    "# 1. 随机随机生成 D 的梯度\n",
    "dD = np.random.randn(*D.shape)\n",
    "\n",
    "print(\"dD.shape : \", dD.shape)\n",
    "\n",
    "# 2. 计算 D 对 W 的偏导数\n",
    "dD_dW = dD.dot(X.T) # dD : (5,2) , X(10,2)\n",
    "\n",
    "print(\"D 对 W 的偏导数 : \\n\", dD_dW)\n",
    "\n",
    "# 3. 计算 D 对 X 的偏导数\n",
    "\n",
    "dD_dX = W.T.dot(dD) # W: (5,10) dD(5,2)\n",
    "print(\"D 对 X 的偏导数 : \\n\", dD_dX)"
   ]
  },
  {
   "cell_type": "code",
   "execution_count": 3,
   "metadata": {},
   "outputs": [],
   "source": []
  }
 ],
 "metadata": {
  "kernelspec": {
   "display_name": "Python 3 (ipykernel)",
   "language": "python",
   "name": "python3"
  },
  "language_info": {
   "codemirror_mode": {
    "name": "ipython",
    "version": 3
   },
   "file_extension": ".py",
   "mimetype": "text/x-python",
   "name": "python",
   "nbconvert_exporter": "python",
   "pygments_lexer": "ipython3",
   "version": "3.7.11"
  }
 },
 "nbformat": 4,
 "nbformat_minor": 1
}