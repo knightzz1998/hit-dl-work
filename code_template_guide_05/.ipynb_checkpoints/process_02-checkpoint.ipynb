{
 "cells": [
  {
   "cell_type": "markdown",
   "metadata": {
    "collapsed": true,
    "pycharm": {
     "name": "#%% md\n"
    }
   },
   "source": [
    "## 信息熵和互信息的计算"
   ]
  },
  {
   "cell_type": "markdown",
   "metadata": {
    "pycharm": {
     "name": "#%% md\n"
    }
   },
   "source": [
    "### 1. 计算香农信息熵\n",
    "- 香农信息熵计算公式\n",
    "    \n",
    "$$\n",
    "   H(U) = \\sum_{i=1}^n p_i log(\\dfrac{1}{p_i})\n",
    "$$"
   ]
  },
  {
   "cell_type": "code",
   "execution_count": 49,
   "metadata": {
    "pycharm": {
     "name": "#%%\n"
    }
   },
   "outputs": [],
   "source": [
    "import numpy as np\n",
    "from math import log\n",
    "\n",
    "# math 的 log 方法默认为自然对数 e"
   ]
  },
  {
   "cell_type": "markdown",
   "metadata": {
    "pycharm": {
     "name": "#%% md\n"
    }
   },
   "source": [
    "#### 1.1 已知概率分布的情况"
   ]
  },
  {
   "cell_type": "code",
   "execution_count": 50,
   "metadata": {
    "pycharm": {
     "name": "#%%\n"
    }
   },
   "outputs": [],
   "source": [
    "# 生成信息熵概率分布\n",
    "x1 = np.array([0.3, 0.3, 0.2, 0.2])\n",
    "x2 = np.array([1])\n",
    "x3 = np.array([0.1, 0.1, 0.4, 0.4])"
   ]
  },
  {
   "cell_type": "code",
   "execution_count": 51,
   "metadata": {
    "pycharm": {
     "name": "#%%\n"
    }
   },
   "outputs": [],
   "source": [
    "# 定义信息熵计算函数\n",
    "\n",
    "def calc_ent(rates):\n",
    "    \"\"\"\n",
    "    计算信息熵\n",
    "    :param rates: 条件概率的数组, 类型为 ndarray\n",
    "    :return: 信息熵的计算结果\n",
    "    \"\"\"\n",
    "    return sum((p * np.log(1.0 / p)) for p in rates)"
   ]
  },
  {
   "cell_type": "code",
   "execution_count": 52,
   "metadata": {
    "pycharm": {
     "name": "#%%\n"
    }
   },
   "outputs": [
    {
     "name": "stdout",
     "output_type": "stream",
     "text": [
      "x1的信息熵: 1.366158847569202\n",
      "x2的信息熵: 0.0\n",
      "x3的信息熵: 1.1935496040981335\n"
     ]
    }
   ],
   "source": [
    "print(\"x1的信息熵:\", calc_ent(x1))\n",
    "print(\"x2的信息熵:\", calc_ent(x2))\n",
    "print(\"x3的信息熵:\", calc_ent(x3))"
   ]
  },
  {
   "cell_type": "markdown",
   "metadata": {
    "pycharm": {
     "name": "#%% md\n"
    }
   },
   "source": [
    "#### 1.2 给定了信号发生情况"
   ]
  },
  {
   "cell_type": "code",
   "execution_count": 53,
   "metadata": {
    "pycharm": {
     "name": "#%%\n"
    }
   },
   "outputs": [],
   "source": [
    "# 生成信号发生情况\n",
    "\n",
    "x_3 = ['A', 'B', 'C', 'D', 'A']\n",
    "x_4 = ['A', 'A', 'A', 'A', 'A']\n",
    "x_5 = ['A', 'B', 'C', 'D', 'E']"
   ]
  },
  {
   "cell_type": "code",
   "execution_count": 62,
   "metadata": {
    "pycharm": {
     "name": "#%%\n"
    }
   },
   "outputs": [],
   "source": [
    "# 定义信息熵计算函数\n",
    "\n",
    "def calc_ent_nop(events):\n",
    "    \"\"\"\n",
    "    计算信息熵\n",
    "    :param events: 信号发生情况\n",
    "    :return: 信息熵计算结果\n",
    "    \"\"\"\n",
    "\n",
    "    # 定义字典统计信号出现的频率\n",
    "    event_dict = {}\n",
    "    length = len(events)  # 信号数量\n",
    "    # 计算信号频率\n",
    "    for event in events:\n",
    "        if event_dict.get(event):\n",
    "            event_dict[event] += 1\n",
    "        else:\n",
    "            event_dict[event] = 1\n",
    "    # 计算每个信号出现概率\n",
    "    rates = np.array( [event_dict[key] / length for key in event_dict])\n",
    "    # 计算香农信息熵\n",
    "    info_ent = sum([(p * np.log(1.0 / p)) for p in rates])\n",
    "    return info_ent"
   ]
  },
  {
   "cell_type": "code",
   "execution_count": 63,
   "metadata": {
    "pycharm": {
     "name": "#%%\n"
    }
   },
   "outputs": [
    {
     "name": "stdout",
     "output_type": "stream",
     "text": [
      "x_3 的信息熵为 :  1.3321790402101223\n",
      "x_4 的信息熵为 :  0.0\n",
      "x_5 的信息熵为 :  1.6094379124341005\n"
     ]
    }
   ],
   "source": [
    "print(\"x_3 的信息熵为 : \", calc_ent_nop(x_3))\n",
    "print(\"x_4 的信息熵为 : \", calc_ent_nop(x_4))\n",
    "print(\"x_5 的信息熵为 : \", calc_ent_nop(x_5))"
   ]
  },
  {
   "cell_type": "markdown",
   "metadata": {
    "pycharm": {
     "name": "#%% md\n"
    }
   },
   "source": [
    "### 2. 计算互信息\n",
    "\n",
    "- 输入：给定的信号发生情况,其中联合分布已经手工给出\n",
    "\n",
    "- 相对熵的计算公式 : $P$ 是真实分布, $Q$是模型预测的分布\n",
    "\n",
    "- 条件熵的公式 : (X,Y) 的联合熵 - Y单独发生的熵\n",
    "- 互信息的计算公式 :\n",
    "\n",
    "\\begin{aligned}\n",
    "    I(X;Y)\n",
    "    &= H(X) - H(X|Y) \\\\\n",
    "    &= H(X) + H(Y) - H(X,Y) \\\\\n",
    "    &= \\sum_x p(x) \\log(\\dfrac{1}{p(x)}) + \\sum_y p(y) \\log(\\dfrac{1}{p(y)}) - \n",
    "    \\sum_{x,y} p(x,y) \\log \\dfrac{1}{p(x,y)} \\\\\n",
    "    &= \\sum_{x,y} p(x,y) \\log \\dfrac{p(x,y)}{p(x)p(y)}\n",
    "\\end{aligned}\n",
    "\n",
    "- 即互信息 $I(X;Y)$ 是联合分布 $P(x,y)$ 与乘积分布 $p(x)p(y)$ 的相对熵"
   ]
  },
  {
   "cell_type": "code",
   "execution_count": null,
   "metadata": {
    "pycharm": {
     "name": "#%%\n"
    }
   },
   "outputs": [],
   "source": [
    "x1 = ['3',  '4',   '5',  '5', '3',  '2',  '2', '6', '6', '1']\n",
    "x2 = ['7',  '2',   '1',  '3', '2',  '8',  '9', '1', '2', '0']\n",
    "x3 = ['37', '42', '51', '53', '32', '28', '29', '61', '62', '10', '37', '42']"
   ]
  }
 ],
 "metadata": {
  "kernelspec": {
   "display_name": "Python 3 (ipykernel)",
   "language": "python",
   "name": "python3"
  },
  "language_info": {
   "codemirror_mode": {
    "name": "ipython",
    "version": 3
   },
   "file_extension": ".py",
   "mimetype": "text/x-python",
   "name": "python",
   "nbconvert_exporter": "python",
   "pygments_lexer": "ipython3",
   "version": "3.7.11"
  }
 },
 "nbformat": 4,
 "nbformat_minor": 1
}
