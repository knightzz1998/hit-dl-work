{
 "cells": [
  {
   "cell_type": "markdown",
   "metadata": {
    "collapsed": true,
    "pycharm": {
     "name": "#%% md\n"
    }
   },
   "source": [
    "## 正向传播和反向传播的程序示例"
   ]
  },
  {
   "cell_type": "markdown",
   "metadata": {
    "pycharm": {
     "name": "#%% md\n"
    }
   },
   "source": [
    "### 1.1 正向传播\n",
    "- 矩阵相乘, W 与 X 点乘, 结果输出为 D\n",
    "- 公式如下 :\n",
    "\n",
    "$$\n",
    "    f(x) = w_0x_0 + w_1x_1 + w_2x_2 + ... + w_nx_n \\\\\n",
    "    D = WX\n",
    "$$"
   ]
  },
  {
   "cell_type": "code",
   "execution_count": 3,
   "metadata": {
    "pycharm": {
     "name": "#%%\n"
    }
   },
   "outputs": [
    {
     "name": "stdout",
     "output_type": "stream",
     "text": [
      "[[-2.11037481 -2.70696351]\n",
      " [ 2.2113289   0.20852793]\n",
      " [-3.16078687  2.68283995]\n",
      " [ 4.37271048  2.04982525]\n",
      " [-3.47517224 -3.6039473 ]]\n"
     ]
    }
   ],
   "source": [
    "import numpy as np\n",
    "\n",
    "# 随机生成初始 W值\n",
    "W = np.random.randn(5,10)\n",
    "X = np.random.randn(10,2)\n",
    "\n",
    "# 计算 W 与 X 点乘的结果\n",
    "D = W.dot(X)\n",
    "print(D)"
   ]
  },
  {
   "cell_type": "markdown",
   "metadata": {},
   "source": [
    "### 2. 反向传播\n",
    "\n",
    "- 反向传播公式 :\n",
    "\n",
    "- $\\partial D 是指 D 的梯度$\n",
    "\n",
    "$$    \n",
    "   \\dfrac{ \\partial D}{\\partial W} = \\partial D  X \\\\\n",
    "   \\dfrac{ \\partial D}{\\partial X} = W \\partial D \\\\\n",
    "$$"
   ]
  },
  {
   "cell_type": "code",
   "execution_count": 8,
   "metadata": {},
   "outputs": [
    {
     "name": "stdout",
     "output_type": "stream",
     "text": [
      "dD.shape :  (5, 2)\n",
      "D 对 W 的偏导数 : \n",
      " [[-1.91199837e-01  4.06161126e-01 -2.58976502e-02 -2.34335503e-01\n",
      "  -9.15923332e-02  1.24946391e-01  1.44274291e-02 -2.14938944e-01\n",
      "  -9.67114070e-01 -2.49099094e-01]\n",
      " [ 9.68480407e-02  1.47460881e-01  1.26786235e-01  4.87708070e-01\n",
      "   8.51400592e-01 -4.45599242e-01 -4.09471151e-01  1.13837827e+00\n",
      "   1.83908163e+00  1.59941524e-01]\n",
      " [ 1.01977150e+00 -3.33447838e+00 -2.37837656e-01  2.93162029e-02\n",
      "  -2.17408805e+00  5.98104490e-01  1.25322577e+00 -2.25875651e+00\n",
      "   6.95555143e-01  1.21689697e+00]\n",
      " [ 1.28150757e+00 -3.38924596e+00 -4.10740936e-02  8.73780963e-01\n",
      "  -9.06284788e-01 -1.15490378e-01  6.62747755e-01 -5.03505421e-01\n",
      "   3.93417790e+00  1.60581083e+00]\n",
      " [-2.00258050e-03 -2.08126855e-01 -6.86219764e-02 -2.24346784e-01\n",
      "  -4.85023545e-01  2.31198468e-01  2.41978773e-01 -6.21310658e-01\n",
      "  -8.21433289e-01 -2.29130166e-02]]\n"
     ]
    }
   ],
   "source": [
    "# 1. 随机随机生成 D 的梯度\n",
    "dD = np.random.randn(*D.shape)\n",
    "\n",
    "print(\"dD.shape : \", dD.shape)\n",
    "\n",
    "# 2. 计算 D 对 W 的偏导数\n",
    "dD_dW = dD.dot(X.T) # dD : (5,2) , X(10,2)\n",
    "\n",
    "print(\"D 对 W 的偏导数 : \\n\", dD_dW)\n",
    "\n",
    "# 3. 计算 D 对 X 的偏导数\n",
    "\n",
    "dD_dX = W.T.dot(dD) # W: (5,10) dD(5,2)"
   ]
  },
  {
   "cell_type": "code",
   "execution_count": null,
   "metadata": {},
   "outputs": [],
   "source": []
  }
 ],
 "metadata": {
  "kernelspec": {
   "display_name": "Python 3 (ipykernel)",
   "language": "python",
   "name": "python3"
  },
  "language_info": {
   "codemirror_mode": {
    "name": "ipython",
    "version": 3
   },
   "file_extension": ".py",
   "mimetype": "text/x-python",
   "name": "python",
   "nbconvert_exporter": "python",
   "pygments_lexer": "ipython3",
   "version": "3.7.11"
  }
 },
 "nbformat": 4,
 "nbformat_minor": 1
}
