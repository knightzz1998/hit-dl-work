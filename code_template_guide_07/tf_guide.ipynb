{
 "cells": [
  {
   "cell_type": "code",
   "execution_count": 2,
   "metadata": {
    "collapsed": true
   },
   "outputs": [
    {
     "name": "stdout",
     "output_type": "stream",
     "text": [
      "tensorflow 2.3.0\n"
     ]
    }
   ],
   "source": [
    "import numpy as np\n",
    "import tensorflow as tf\n",
    "print(tf.__name__, tf.__version__)"
   ]
  },
  {
   "cell_type": "code",
   "execution_count": 3,
   "outputs": [
    {
     "data": {
      "text/plain": "<tf.Tensor: shape=(3,), dtype=float64, numpy=array([1., 2., 3.])>"
     },
     "execution_count": 3,
     "metadata": {},
     "output_type": "execute_result"
    }
   ],
   "source": [
    "tf.constant([1,2,3], dtype=tf.float64)"
   ],
   "metadata": {
    "collapsed": false,
    "pycharm": {
     "name": "#%%\n"
    }
   }
  },
  {
   "cell_type": "code",
   "execution_count": 5,
   "outputs": [
    {
     "data": {
      "text/plain": "<tf.Tensor: shape=(3,), dtype=int32, numpy=array([1, 2, 3])>"
     },
     "execution_count": 5,
     "metadata": {},
     "output_type": "execute_result"
    }
   ],
   "source": [
    "import numpy as np\n",
    "data = np.array([1, 2, 3])\n",
    "tf.constant(data)"
   ],
   "metadata": {
    "collapsed": false,
    "pycharm": {
     "name": "#%%\n"
    }
   }
  },
  {
   "cell_type": "code",
   "execution_count": 7,
   "outputs": [
    {
     "name": "stdout",
     "output_type": "stream",
     "text": [
      "tf.Tensor([1. 2. 3.], shape=(3,), dtype=float64)\n",
      "tf.Tensor([1. 2. 3.], shape=(3,), dtype=float32)\n"
     ]
    }
   ],
   "source": [
    "data = tf.constant([1,2,3], dtype=tf.float64)\n",
    "print(data)\n",
    "print(tf.cast(data, dtype=tf.float32))"
   ],
   "metadata": {
    "collapsed": false,
    "pycharm": {
     "name": "#%%\n"
    }
   }
  },
  {
   "cell_type": "code",
   "execution_count": 10,
   "outputs": [
    {
     "name": "stdout",
     "output_type": "stream",
     "text": [
      "tf.Tensor(\n",
      "[[1. 1. 1. 1.]\n",
      " [1. 1. 1. 1.]\n",
      " [1. 1. 1. 1.]], shape=(3, 4), dtype=float64)\n"
     ]
    }
   ],
   "source": [
    "data  = np.ones((3,4))\n",
    "print(tf.convert_to_tensor(data))"
   ],
   "metadata": {
    "collapsed": false,
    "pycharm": {
     "name": "#%%\n"
    }
   }
  },
  {
   "cell_type": "code",
   "execution_count": 16,
   "outputs": [
    {
     "name": "stdout",
     "output_type": "stream",
     "text": [
      "(3, 4)\n",
      "(4, 3)\n"
     ]
    }
   ],
   "source": [
    "data = tf.constant(np.arange(12).reshape(3,4))\n",
    "print(data.shape)\n",
    "print(tf.reshape(data, (4,3)).shape)"
   ],
   "metadata": {
    "collapsed": false,
    "pycharm": {
     "name": "#%%\n"
    }
   }
  },
  {
   "cell_type": "code",
   "execution_count": 21,
   "outputs": [
    {
     "name": "stdout",
     "output_type": "stream",
     "text": [
      "(3,)\n",
      "(1, 3)\n"
     ]
    }
   ],
   "source": [
    "data = tf.constant([1,2,3], dtype=tf.float64)\n",
    "print(data.shape)\n",
    "print(tf.expand_dims(data, axis=0).shape)"
   ],
   "metadata": {
    "collapsed": false,
    "pycharm": {
     "name": "#%%\n"
    }
   }
  },
  {
   "cell_type": "code",
   "execution_count": 24,
   "outputs": [
    {
     "name": "stdout",
     "output_type": "stream",
     "text": [
      "tf.Tensor([0 1], shape=(2,), dtype=int32)\n",
      "tf.Tensor([8 9], shape=(2,), dtype=int32)\n"
     ]
    }
   ],
   "source": [
    "data = tf.range(10)\n",
    "print(data[:2])\n",
    "print(data[-2:])"
   ],
   "metadata": {
    "collapsed": false,
    "pycharm": {
     "name": "#%%\n"
    }
   }
  },
  {
   "cell_type": "code",
   "execution_count": 25,
   "outputs": [],
   "source": [
    "import tensorflow.keras as keras\n",
    "import pandas as pd\n",
    "import matplotlib as mpl\n",
    "import matplotlib.pyplot as plt\n",
    "%matplotlib inline\n",
    "import numpy as np\n",
    "import sklearn\n",
    "import os\n",
    "import sys\n",
    "import time\n",
    "import tensorflow as tf"
   ],
   "metadata": {
    "collapsed": false,
    "pycharm": {
     "name": "#%%\n"
    }
   }
  },
  {
   "cell_type": "code",
   "execution_count": 26,
   "outputs": [
    {
     "data": {
      "text/plain": "<Figure size 504x230.4 with 10 Axes>",
      "image/png": "[encoded data removed]"
     },
     "metadata": {
      "needs_background": "light"
     },
     "output_type": "display_data"
    }
   ],
   "source": [
    "# 读取tf自带的数据集\n",
    "fashion_mnist = tf.keras.datasets.fashion_mnist\n",
    "# 加载数据\n",
    "(x_train_all, y_train_all), (x_test, y_test) = fashion_mnist.load_data()\n",
    "\n",
    "# 展示所有种类的数据\n",
    "def show_imgs(n_rows, n_cols, x_data, y_data, class_names):\n",
    "    # 断言, 判断x_data 和 y_data是否相等\n",
    "    assert len(x_data) == len(y_data)\n",
    "    assert n_rows * n_cols < len(x_data)\n",
    "\n",
    "    # 创建画板\n",
    "    plt.figure(figsize=(n_cols * 1.4, n_rows * 1.6))\n",
    "    # 展示不同种类的图像\n",
    "    for row in range(n_rows):\n",
    "        for col in range(n_cols):\n",
    "            # 获取索引\n",
    "            index = n_cols * row + col\n",
    "            # plt.subplot 用于绘制子图, 参考 : https://www.cnblogs.com/cgmcoding/p/13279406.html\n",
    "            plt.subplot(n_rows, n_cols, index + 1)\n",
    "            # interpolation 缩放图片时使用的方法\n",
    "            plt.imshow(x_data[index], cmap=\"binary\", interpolation=\"nearest\")\n",
    "            # 关闭坐标系\n",
    "            plt.axis('off')\n",
    "            # 设置标题\n",
    "            plt.title(class_names[y_data[index]])\n",
    "\n",
    "\n",
    "class_names = ['T-shirt', 'Trouser', 'Pullover', 'Dress',\n",
    "               'Coat', 'Sandal', 'Shirt', 'Sneaker',\n",
    "               'Bag', 'Ankle boot']\n",
    "show_imgs(2, 5, x_train_all, y_train_all, class_names)"
   ],
   "metadata": {
    "collapsed": false,
    "pycharm": {
     "name": "#%%\n"
    }
   }
  },
  {
   "cell_type": "code",
   "execution_count": 27,
   "outputs": [
    {
     "name": "stdout",
     "output_type": "stream",
     "text": [
      "tf.Tensor([0 2 3], shape=(3,), dtype=int32)\n"
     ]
    }
   ],
   "source": [
    "data = tf.range(6)\n",
    "print(tf.gather(data, [0, 2, 3]))"
   ],
   "metadata": {
    "collapsed": false,
    "pycharm": {
     "name": "#%%\n"
    }
   }
  },
  {
   "cell_type": "code",
   "execution_count": 28,
   "outputs": [
    {
     "name": "stdout",
     "output_type": "stream",
     "text": [
      "tf.Tensor([0 5], shape=(2,), dtype=int32)\n"
     ]
    }
   ],
   "source": [
    "data = tf.range(12)\n",
    "data = tf.reshape(data, (3,4))\n",
    "print(tf.gather_nd(data, [[0,0], [1,1]]))"
   ],
   "metadata": {
    "collapsed": false,
    "pycharm": {
     "name": "#%%\n"
    }
   }
  },
  {
   "cell_type": "code",
   "execution_count": 34,
   "outputs": [
    {
     "name": "stdout",
     "output_type": "stream",
     "text": [
      "tf.Tensor(\n",
      "[ 0.        1.        4.        9.       16.       24.999998 36.\n",
      " 48.999996 64.       81.      ], shape=(10,), dtype=float32)\n",
      "tf.Tensor(\n",
      "[1.0000000e+00 2.7182817e+00 7.3890562e+00 2.0085537e+01 5.4598148e+01\n",
      " 1.4841316e+02 4.0342880e+02 1.0966332e+03 2.9809580e+03 8.1030840e+03], shape=(10,), dtype=float32)\n",
      "tf.Tensor(\n",
      "[     -inf 0.        0.6931472 1.0986123 1.3862944 1.609438  1.7917595\n",
      " 1.9459102 2.0794415 2.1972246], shape=(10,), dtype=float32)\n"
     ]
    }
   ],
   "source": [
    "data = tf.range(10, dtype=tf.float32)\n",
    "\n",
    "print(tf.pow(data, 2))\n",
    "print(tf.exp(data))\n",
    "print(tf.math.log(data))"
   ],
   "metadata": {
    "collapsed": false,
    "pycharm": {
     "name": "#%%\n"
    }
   }
  },
  {
   "cell_type": "code",
   "execution_count": 41,
   "outputs": [
    {
     "name": "stdout",
     "output_type": "stream",
     "text": [
      "(3, 4)\n",
      "(4, 3)\n",
      "tf.Tensor(\n",
      "[[ 2  3  4  5]\n",
      " [ 6  7  8  9]\n",
      " [10 11 12 13]], shape=(3, 4), dtype=int32)\n",
      "tf.Tensor(\n",
      "[[ 42  48  54]\n",
      " [114 136 158]\n",
      " [186 224 262]], shape=(3, 3), dtype=int32)\n"
     ]
    }
   ],
   "source": [
    "data01 = tf.reshape(tf.range(12), (3,4))\n",
    "data02 = tf.reshape(tf.range(12), (4,3))\n",
    "\n",
    "print(data01.shape)\n",
    "print(data02.shape)\n",
    "\n",
    "print(data01 + 2)\n",
    "print(data01 @ data02)"
   ],
   "metadata": {
    "collapsed": false,
    "pycharm": {
     "name": "#%%\n"
    }
   }
  },
  {
   "cell_type": "code",
   "execution_count": null,
   "outputs": [],
   "source": [],
   "metadata": {
    "collapsed": false,
    "pycharm": {
     "name": "#%%\n"
    }
   }
  }
 ],
 "metadata": {
  "kernelspec": {
   "display_name": "Python 3",
   "language": "python",
   "name": "python3"
  },
  "language_info": {
   "codemirror_mode": {
    "name": "ipython",
    "version": 2
   },
   "file_extension": ".py",
   "mimetype": "text/x-python",
   "name": "python",
   "nbconvert_exporter": "python",
   "pygments_lexer": "ipython2",
   "version": "2.7.6"
  }
 },
 "nbformat": 4,
 "nbformat_minor": 0
}