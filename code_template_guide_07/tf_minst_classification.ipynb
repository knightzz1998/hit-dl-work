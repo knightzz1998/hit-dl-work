{
 "cells": [
  {
   "cell_type": "markdown",
   "metadata": {},
   "source": [
    "## 利用 tensorflow 实现的卷积神经网络来进行 MNIST 手写数字图像的分类\n"
   ]
  },
  {
   "cell_type": "code",
   "execution_count": 31,
   "metadata": {},
   "outputs": [
    {
     "name": "stdout",
     "output_type": "stream",
     "text": [
      "2.3.0\n",
      "sys.version_info(major=3, minor=7, micro=11, releaselevel='final', serial=0)\n",
      "matplotlib 3.4.2\n",
      "numpy 1.18.5\n",
      "pandas 1.3.3\n",
      "sklearn 1.0\n",
      "tensorflow 2.3.0\n",
      "tensorflow.keras 2.4.0\n"
     ]
    }
   ],
   "source": [
    "import tensorflow.keras as keras\n",
    "import pandas as pd\n",
    "import matplotlib as mpl\n",
    "import matplotlib.pyplot as plt\n",
    "import numpy as np\n",
    "import sklearn\n",
    "import os\n",
    "import sys\n",
    "import time\n",
    "import tensorflow as tf\n",
    "\n",
    "print(tf.__version__)\n",
    "print(sys.version_info)\n",
    "for module in mpl, np, pd, sklearn, tf, keras:\n",
    "    print(module.__name__, module.__version__)"
   ]
  },
  {
   "cell_type": "markdown",
   "metadata": {},
   "source": [
    "### 1. 获取数据集"
   ]
  },
  {
   "cell_type": "code",
   "execution_count": 32,
   "metadata": {},
   "outputs": [
    {
     "name": "stdout",
     "output_type": "stream",
     "text": [
      "(60000, 28, 28) (60000,)\n",
      "(10000, 28, 28) (10000,)\n"
     ]
    }
   ],
   "source": [
    "# 导入数据\n",
    "import tensorflow.keras as keras\n",
    "\n",
    "mnist = keras.datasets.mnist\n",
    "(x_train, y_train), (x_test, y_test) = mnist.load_data()\n",
    "\n",
    "# 打印数据的shape\n",
    "print(x_train.shape, y_train.shape)\n",
    "print(x_test.shape, y_test.shape)"
   ]
  },
  {
   "cell_type": "markdown",
   "metadata": {
    "pycharm": {
     "name": "#%% md\n"
    }
   },
   "source": [
    "### 2. 展示数据"
   ]
  },
  {
   "cell_type": "code",
   "execution_count": 33,
   "metadata": {
    "pycharm": {
     "name": "#%%\n"
    }
   },
   "outputs": [
    {
     "data": {
      "image/png": "[encoded data removed]",
      "text/plain": [
       "<Figure size 432x288 with 1 Axes>"
      ]
     },
     "metadata": {
      "needs_background": "light"
     },
     "output_type": "display_data"
    }
   ],
   "source": [
    "# 数据集都是向量数据, 直接输出无法显示图片, 需要借用matplotlib显示图片\n",
    "def show_mnist(img_arr):\n",
    "    plt.imshow(img_arr, cmap=\"binary\")\n",
    "    plt.show()\n",
    "\n",
    "\n",
    "# 展示图片\n",
    "show_mnist(x_train[10])"
   ]
  },
  {
   "cell_type": "code",
   "execution_count": 34,
   "metadata": {
    "pycharm": {
     "name": "#%%\n"
    }
   },
   "outputs": [
    {
     "data": {
      "image/png": "[encoded data removed]",
      "text/plain": [
       "<Figure size 432x288 with 15 Axes>"
      ]
     },
     "metadata": {
      "needs_background": "light"
     },
     "output_type": "display_data"
    }
   ],
   "source": [
    "# 展示所有种类的数据\n",
    "\n",
    "def show_imgs(n_rows, n_cols, x_data, y_data, class_names):\n",
    "    # 断言, 判断输入数据是否合法\n",
    "    assert len(x_data) == len(y_data)\n",
    "    assert n_rows * n_cols < len(x_data)\n",
    "\n",
    "    # 创建画板\n",
    "    plt.plot(figsize=(n_cols * 1.4, n_rows * 1.6))\n",
    "    # 展示不同种类的图像\n",
    "    for row in range(n_rows):\n",
    "        for col in range(n_cols):\n",
    "            # 获取索引\n",
    "            index = n_cols * row + col\n",
    "            # 绘制子图\n",
    "            plt.subplot(n_rows, n_cols, index + 1)\n",
    "            plt.imshow(x_data[index], cmap=\"binary\",\n",
    "                       interpolation=\"nearest\")\n",
    "            # 关闭坐标系\n",
    "            plt.axis('off')\n",
    "            # 设置标题\n",
    "            plt.title(class_names[y_data[index]])\n",
    "\n",
    "\n",
    "# 分类\n",
    "class_names = ['0', '1', '2', '3', '4', '5', '6', '7', '8', '9']\n",
    "\n",
    "show_imgs(3, 5, x_train, y_train, class_names)"
   ]
  },
  {
   "cell_type": "markdown",
   "metadata": {
    "pycharm": {
     "name": "#%% md\n"
    }
   },
   "source": [
    "### 3. 搭建模型"
   ]
  },
  {
   "cell_type": "code",
   "execution_count": 35,
   "metadata": {
    "pycharm": {
     "name": "#%%\n"
    }
   },
   "outputs": [],
   "source": [
    "model = keras.models.Sequential()\n",
    "\n",
    "# 添加卷积层\n",
    "model.add(keras.layers.Conv2D(\n",
    "    # filters : 输出的通道数(卷积核数量)\n",
    "    # kernel_size : 卷积核的大小\n",
    "    # padding : 要不要加上padding 让输入和输出一致\n",
    "    filters=32, kernel_size=3, padding=\"same\",\n",
    "    input_shape=[28, 28, 1], activation=\"relu\"\n",
    "))\n",
    "model.add(keras.layers.Conv2D(\n",
    "    filters=32, kernel_size=3, padding=\"same\",\n",
    "    activation=\"relu\"\n",
    "))\n",
    "# 池化操作\n",
    "model.add(keras.layers.MaxPool2D(pool_size=2))\n",
    "model.add(keras.layers.Conv2D(\n",
    "    filters=64, kernel_size=3, padding=\"same\",\n",
    "    activation=\"relu\"\n",
    "))\n",
    "model.add(keras.layers.Conv2D(\n",
    "    filters=64, kernel_size=3, padding=\"same\",\n",
    "    activation=\"relu\"\n",
    "))\n",
    "model.add(keras.layers.MaxPool2D(pool_size=2))\n",
    "model.add(keras.layers.Conv2D(\n",
    "    filters=128, kernel_size=3, padding=\"same\",\n",
    "    activation=\"relu\"\n",
    "))\n",
    "model.add(keras.layers.Conv2D(\n",
    "    filters=128, kernel_size=3, padding=\"same\",\n",
    "    activation=\"relu\"\n",
    "))\n",
    "model.add(keras.layers.MaxPool2D(pool_size=2))\n",
    "model.add(keras.layers.Flatten())\n",
    "# 添加全连接层\n",
    "model.add(keras.layers.Dense(128, activation=\"relu\"))\n",
    "model.add(keras.layers.Dense(10, activation=\"softmax\"))\n",
    "\n",
    "model.compile(loss=keras.losses.sparse_categorical_crossentropy, optimizer=\"sgd\", metrics=['accuracy'])"
   ]
  },
  {
   "cell_type": "code",
   "execution_count": 36,
   "metadata": {
    "pycharm": {
     "name": "#%%\n"
    }
   },
   "outputs": [
    {
     "name": "stdout",
     "output_type": "stream",
     "text": [
      "Model: \"sequential_4\"\n",
      "_________________________________________________________________\n",
      "Layer (type)                 Output Shape              Param #   \n",
      "=================================================================\n",
      "conv2d_14 (Conv2D)           (None, 28, 28, 32)        320       \n",
      "_________________________________________________________________\n",
      "conv2d_15 (Conv2D)           (None, 28, 28, 32)        9248      \n",
      "_________________________________________________________________\n",
      "max_pooling2d_6 (MaxPooling2 (None, 14, 14, 32)        0         \n",
      "_________________________________________________________________\n",
      "conv2d_16 (Conv2D)           (None, 14, 14, 64)        18496     \n",
      "_________________________________________________________________\n",
      "conv2d_17 (Conv2D)           (None, 14, 14, 64)        36928     \n",
      "_________________________________________________________________\n",
      "max_pooling2d_7 (MaxPooling2 (None, 7, 7, 64)          0         \n",
      "_________________________________________________________________\n",
      "conv2d_18 (Conv2D)           (None, 7, 7, 128)         73856     \n",
      "_________________________________________________________________\n",
      "conv2d_19 (Conv2D)           (None, 7, 7, 128)         147584    \n",
      "_________________________________________________________________\n",
      "max_pooling2d_8 (MaxPooling2 (None, 3, 3, 128)         0         \n",
      "_________________________________________________________________\n",
      "flatten_2 (Flatten)          (None, 1152)              0         \n",
      "_________________________________________________________________\n",
      "dense_4 (Dense)              (None, 128)               147584    \n",
      "_________________________________________________________________\n",
      "dense_5 (Dense)              (None, 10)                1290      \n",
      "=================================================================\n",
      "Total params: 435,306\n",
      "Trainable params: 435,306\n",
      "Non-trainable params: 0\n",
      "_________________________________________________________________\n"
     ]
    }
   ],
   "source": [
    "model.summary()"
   ]
  },
  {
   "cell_type": "markdown",
   "metadata": {},
   "source": [
    "### 4. 对数据进行正则化"
   ]
  },
  {
   "cell_type": "code",
   "execution_count": 37,
   "metadata": {
    "pycharm": {
     "name": "#%%\n"
    }
   },
   "outputs": [],
   "source": [
    "from sklearn.preprocessing import StandardScaler\n",
    "scaler = StandardScaler()\n",
    "x_train_scaled = scaler.fit_transform(x_train.astype(np.float32).reshape(-1, 1)).reshape(-1, 28, 28, 1)\n",
    "x_test_scaled = scaler.transform(x_test.astype(np.float32).reshape(-1, 1)).reshape(-1, 28, 28, 1)"
   ]
  },
  {
   "cell_type": "markdown",
   "metadata": {},
   "source": [
    "### 5. 训练模型"
   ]
  },
  {
   "cell_type": "code",
   "execution_count": 39,
   "metadata": {
    "pycharm": {
     "name": "#%%\n"
    }
   },
   "outputs": [
    {
     "name": "stdout",
     "output_type": "stream",
     "text": [
      "Epoch 1/10\n",
      "1500/1500 [==============================] - 181s 121ms/step - loss: 0.3239 - accuracy: 0.9028 - val_loss: 0.0971 - val_accuracy: 0.9712\n",
      "Epoch 2/10\n",
      "1500/1500 [==============================] - 181s 120ms/step - loss: 0.0767 - accuracy: 0.9760 - val_loss: 0.0597 - val_accuracy: 0.9825\n",
      "Epoch 3/10\n",
      "1500/1500 [==============================] - 193s 129ms/step - loss: 0.0521 - accuracy: 0.9839 - val_loss: 0.0757 - val_accuracy: 0.9775\n",
      "Epoch 4/10\n",
      "1500/1500 [==============================] - 209s 140ms/step - loss: 0.0395 - accuracy: 0.9874 - val_loss: 0.0490 - val_accuracy: 0.9858\n",
      "Epoch 5/10\n",
      "1500/1500 [==============================] - 201s 134ms/step - loss: 0.0318 - accuracy: 0.9895 - val_loss: 0.0453 - val_accuracy: 0.9868\n",
      "Epoch 6/10\n",
      "1500/1500 [==============================] - 223s 149ms/step - loss: 0.0236 - accuracy: 0.9923 - val_loss: 0.0541 - val_accuracy: 0.9846\n",
      "Epoch 7/10\n",
      "1500/1500 [==============================] - 198s 132ms/step - loss: 0.0186 - accuracy: 0.9945 - val_loss: 0.0422 - val_accuracy: 0.9870\n",
      "Epoch 8/10\n",
      "1500/1500 [==============================] - 209s 139ms/step - loss: 0.0145 - accuracy: 0.9954 - val_loss: 0.0460 - val_accuracy: 0.9875\n",
      "Epoch 9/10\n",
      "1500/1500 [==============================] - 199s 133ms/step - loss: 0.0125 - accuracy: 0.9958 - val_loss: 0.0488 - val_accuracy: 0.9871\n",
      "Epoch 10/10\n",
      "1500/1500 [==============================] - 203s 136ms/step - loss: 0.0102 - accuracy: 0.9968 - val_loss: 0.0473 - val_accuracy: 0.9881\n"
     ]
    }
   ],
   "source": [
    "history = model.fit(x_train_scaled, y_train, epochs=10, validation_split=0.2)"
   ]
  },
  {
   "cell_type": "code",
   "execution_count": 41,
   "metadata": {
    "pycharm": {
     "name": "#%%\n"
    }
   },
   "outputs": [
    {
     "name": "stdout",
     "output_type": "stream",
     "text": [
      "{'loss': [0.32393524050712585, 0.0766594409942627, 0.052078548818826675, 0.03948422148823738, 0.03176305815577507, 0.023631960153579712, 0.018577244132757187, 0.014492242597043514, 0.01248733140528202, 0.010189097374677658], 'accuracy': [0.9027500152587891, 0.9760208129882812, 0.9839375019073486, 0.9873541593551636, 0.9894999861717224, 0.992270827293396, 0.9945208430290222, 0.9953749775886536, 0.9957500100135803, 0.9968125224113464], 'val_loss': [0.09714160859584808, 0.059674784541130066, 0.0756748616695404, 0.04900907725095749, 0.045313287526369095, 0.054132018238306046, 0.04216375946998596, 0.046049728989601135, 0.0488114170730114, 0.047255005687475204], 'val_accuracy': [0.9711666703224182, 0.9825000166893005, 0.9775000214576721, 0.9858333468437195, 0.9868333339691162, 0.98458331823349, 0.9869999885559082, 0.987500011920929, 0.9870833158493042, 0.9880833625793457]}\n"
     ]
    }
   ],
   "source": [
    "print(history.history)"
   ]
  },
  {
   "cell_type": "markdown",
   "metadata": {},
   "source": [
    "### 6. 绘制图像"
   ]
  },
  {
   "cell_type": "code",
   "execution_count": 43,
   "metadata": {
    "pycharm": {
     "name": "#%%\n"
    }
   },
   "outputs": [
    {
     "data": {
      "image/png": "[encoded data removed]",
      "text/plain": [
       "<Figure size 576x432 with 1 Axes>"
      ]
     },
     "metadata": {
      "needs_background": "light"
     },
     "output_type": "display_data"
    }
   ],
   "source": [
    "def plot_metric(history):\n",
    "    pd.DataFrame(history.history).plot(figsize=(8,6))\n",
    "    plt.gca().set_ylim(0,2)\n",
    "    plt.grid(True)\n",
    "    plt.show()\n",
    "plot_metric(history)"
   ]
  },
  {
   "cell_type": "markdown",
   "metadata": {
    "pycharm": {
     "name": "#%%\n"
    }
   },
   "source": [
    "### 7. 在测试集上验证"
   ]
  },
  {
   "cell_type": "code",
   "execution_count": 45,
   "metadata": {},
   "outputs": [
    {
     "name": "stdout",
     "output_type": "stream",
     "text": [
      "313/313 [==============================] - 8s 26ms/step - loss: 0.0335 - accuracy: 0.9899\n"
     ]
    },
    {
     "data": {
      "text/plain": [
       "[0.03346322476863861, 0.9898999929428101]"
      ]
     },
     "execution_count": 45,
     "metadata": {},
     "output_type": "execute_result"
    }
   ],
   "source": [
    "model.evaluate(x_test_scaled, y_test)"
   ]
  },
  {
   "cell_type": "code",
   "execution_count": null,
   "metadata": {},
   "outputs": [],
   "source": []
  },
  {
   "cell_type": "code",
   "execution_count": null,
   "metadata": {},
   "outputs": [],
   "source": []
  }
 ],
 "metadata": {
  "interpreter": {
   "hash": "bf47b845ffc22cbff216138c15a5ad2a71e443c72c47062cf77e07f607988736"
  },
  "kernelspec": {
   "display_name": "Python 3 (ipykernel)",
   "language": "python",
   "name": "python3"
  },
  "language_info": {
   "codemirror_mode": {
    "name": "ipython",
    "version": 3
   },
   "file_extension": ".py",
   "mimetype": "text/x-python",
   "name": "python",
   "nbconvert_exporter": "python",
   "pygments_lexer": "ipython3",
   "version": "3.7.11"
  }
 },
 "nbformat": 4,
 "nbformat_minor": 2
}